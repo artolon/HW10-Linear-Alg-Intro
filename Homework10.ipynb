{
 "cells": [
  {
   "cell_type": "markdown",
   "id": "d07d2baf",
   "metadata": {},
   "source": [
    "# Homework 10: Basics of Linear Algebra"
   ]
  },
  {
   "cell_type": "markdown",
   "id": "6aac213c",
   "metadata": {},
   "source": [
    "**Directions:** Please be sure your functions work for vectors with a size of three and matrices that are 3x3. Bonus points if you can further generalize them for larger vectors and matrices"
   ]
  },
  {
   "cell_type": "markdown",
   "id": "2233e9e5",
   "metadata": {},
   "source": [
    "**Import Relavent Modules**"
   ]
  },
  {
   "cell_type": "code",
   "execution_count": 36,
   "id": "bea89e38",
   "metadata": {},
   "outputs": [],
   "source": [
    "from numpy.linalg import norm\n",
    "from numpy import arccos, dot\n",
    "import math"
   ]
  },
  {
   "cell_type": "markdown",
   "id": "0788cc6f",
   "metadata": {},
   "source": [
    " ### 1.\tExplain the dot product and cross product in your own words in markdown. Use LaTeX to properly show the equations."
   ]
  },
  {
   "cell_type": "markdown",
   "id": "b684d0a5",
   "metadata": {},
   "source": [
    "#### Dot Product\n",
    "\n",
    "The Dot product equation: \n",
    "$$\\vec{v} \\cdot \\vec{w} = \\sum_{i=1}^{n} v_iw_i  $$\n",
    "\n",
    "The equation above, displays the dot product of two vectors. The notation shows that we multiply the respective elements from each vector together (v1*w1, v2*w2, etc.). We then take the sum of those products.\n",
    "\n",
    "This results in a scalar value. That value essentially tells us how similar directed two vectors are to one another. The dot product can also help us later calculate the angle between the two vectors. \n",
    "\n",
    "\n",
    "#### Cross Product\n",
    "\n",
    "The Cross product equation:\n",
    "$$\\vec{v}\\times\\vec{w} =|\\vec{v}|_2|\\vec{w}|_2\\sin(\\theta)\\ n$$\n",
    "\n",
    "The cross product of two vectors is defined in 3-dimensional space. The cross product calculation results in a vector. That vector is orthogonal to the two vectors used in the calculation. "
   ]
  },
  {
   "cell_type": "markdown",
   "id": "c8dab6e4",
   "metadata": {},
   "source": [
    "### 2. Write a function angle_between(v1, v2) where v1 and v2 are two vectors that are passed in, and the angle between them is calculated."
   ]
  },
  {
   "cell_type": "markdown",
   "id": "79266a3a",
   "metadata": {},
   "source": [
    "**Manual Function**"
   ]
  },
  {
   "cell_type": "code",
   "execution_count": 56,
   "id": "5d5e19df",
   "metadata": {},
   "outputs": [],
   "source": [
    "# This function is designed to only utilize modules inherent in Python (i.e. 'math')\n",
    "# A user can call this function, even if they don't have numpy (or any other module) installed on their machine\n",
    "# This is why 'norm' and 'dot' functions are not called within this function\n",
    "\n",
    "# Define a function that accepts two arguments (vector v1 and vector v2)\n",
    "def angle_between(v1,v2):     \n",
    "    # import math to call on 'acos' and 'degrees'\n",
    "    import math\n",
    "    # Use Try/Except for error handling\n",
    "    try:\n",
    "        # Confirm the vectors are of equal length\n",
    "        if len(v1)==len(v2):\n",
    "            # For every index value in the range of the length of vector b, multiply vector a by vector b;\n",
    "            # Take the sum of that iteration and call it 'dot'\n",
    "            dot = sum([v1[i]*v2[i] for i in range(len(v2))])\n",
    "            \n",
    "            # Formula for magnitude of the first vector; take the square of every value, sum, and then sqrt\n",
    "            mag1 = (sum([v1[i]**2 for i in range(len(v1))]))**(1/2)\n",
    "            \n",
    "            # Repeat above formula, but for the second vector instead\n",
    "            mag2 = (sum([v2[i]**2 for i in range(len(v2))]))**(1/2)\n",
    "            \n",
    "            # Find the angle between the two vectors\n",
    "            angle = math.acos(dot/(mag1*mag2)) # outputs radians \n",
    "            \n",
    "            # Convert radians to degrees and round to 3 decimal points\n",
    "            angle_degrees = round(math.degrees(angle),3)\n",
    "            \n",
    "            # Add the degree sign, so that user knows this is degrees and not radians\n",
    "            degreesign = u\"\\N{DEGREE SIGN}\"\n",
    "            # Print with symbol\n",
    "            print(f\"{angle_degrees} \\N{DEGREE SIGN}\")\n",
    "        \n",
    "        # If vectors don't have the same dimension, tell user to try again\n",
    "        else:\n",
    "            print('Try again with vectors of same dimension')\n",
    "    \n",
    "    # Execute code regardless, but tell user to input a vector if they do not\n",
    "    except TypeError:\n",
    "        print('Please input two vectors')"
   ]
  },
  {
   "cell_type": "code",
   "execution_count": 57,
   "id": "3c74f9e5",
   "metadata": {},
   "outputs": [
    {
     "name": "stdout",
     "output_type": "stream",
     "text": [
      "150.189 °\n"
     ]
    }
   ],
   "source": [
    "# Test function with single 1x3 vectors\n",
    "v1 = [3,6,1]\n",
    "v2 = [-5,-9,4]\n",
    "\n",
    "angle_between(v1,v2)"
   ]
  },
  {
   "cell_type": "code",
   "execution_count": 58,
   "id": "e23a2ea5",
   "metadata": {},
   "outputs": [
    {
     "name": "stdout",
     "output_type": "stream",
     "text": [
      "106.348 °\n"
     ]
    }
   ],
   "source": [
    "# Test function with vectors of length 5\n",
    "v1 = [3,6,1,2,7]\n",
    "v2 = [-5,-9,4,9,1]\n",
    "\n",
    "angle_between(v1,v2)"
   ]
  },
  {
   "cell_type": "code",
   "execution_count": 60,
   "id": "cd942a4d",
   "metadata": {},
   "outputs": [
    {
     "name": "stdout",
     "output_type": "stream",
     "text": [
      "Try again with vectors of same dimension\n"
     ]
    }
   ],
   "source": [
    "# Test function with uneven vectors\n",
    "v1 = [3,6,1]\n",
    "v2 = [-5,-9,4,9,1]\n",
    "\n",
    "angle_between(v1,v2)"
   ]
  },
  {
   "cell_type": "code",
   "execution_count": 61,
   "id": "e3daf43e",
   "metadata": {},
   "outputs": [
    {
     "name": "stdout",
     "output_type": "stream",
     "text": [
      "Please input two vectors\n"
     ]
    }
   ],
   "source": [
    "# Test with non-vectors (scalars)\n",
    "v1 = 3\n",
    "v2 = 4\n",
    "\n",
    "angle_between(v1,v2)"
   ]
  },
  {
   "cell_type": "code",
   "execution_count": 62,
   "id": "d10fad1a",
   "metadata": {},
   "outputs": [
    {
     "name": "stdout",
     "output_type": "stream",
     "text": [
      "Please input two vectors\n"
     ]
    }
   ],
   "source": [
    "# Test with non-vectors (matrix)\n",
    "v1 = np.array([[1,2],\n",
    "               [3,4]])\n",
    "\n",
    "v1 = np.array([[5,6],\n",
    "               [7,8]])\n",
    "\n",
    "angle_between(v1,v2)"
   ]
  },
  {
   "cell_type": "markdown",
   "id": "8b4230e7",
   "metadata": {},
   "source": [
    "### 3. Write a function called row_dot(A, r1, r2) which takes an input matrix called A, one row number identified by r1, and another row number identified by r2 and returns the dot product of the r1 and r2 rows (indexing starts at 0)."
   ]
  },
  {
   "cell_type": "code",
   "execution_count": 111,
   "id": "6e67606a",
   "metadata": {},
   "outputs": [],
   "source": [
    "# Define a function that accepts a matrix called 'A' and two row numbers from the matrix\n",
    "# Find the dot product of those rows\n",
    "def row_dot(A,r1,r2):\n",
    "    # use try except for error handling\n",
    "    try:  \n",
    "        # If the row number arguments are integers\n",
    "        if type(r1) and type(r2) == int:\n",
    "            # Find the index position that is equivalent to the row number requested.\n",
    "            # Subtract 1 to get proper index value of row number\n",
    "            row_a = A[r1-1]\n",
    "        \n",
    "            # Repeat process for the next requested row\n",
    "            row_b = A[r2-1]\n",
    "            \n",
    "            # Ensure the two rows are equal to each other\n",
    "            if len(row_a)==len(row_b):\n",
    "                # Calculate do product of the requested rows\n",
    "                dot = sum([row_a[i]*row_b[i] for i in range(len(row_b))])\n",
    "                print(dot) # print the dot product\n",
    "                \n",
    "            # Message requesting that rows be equal\n",
    "            else:\n",
    "                print('Row lengths must be equal')\n",
    "                \n",
    "        # Message requesting that valid row numbers are entered in the function\n",
    "        else:\n",
    "            print('Please put valid row numbers in args 2 and 3')\n",
    "    \n",
    "    # Error message if users enter incorrect arguments\n",
    "    except IndexError:\n",
    "        print('One or more row numbers are out of matrix range')\n",
    "    except TypeError:\n",
    "        print('Enter valid matrix in first argument')"
   ]
  },
  {
   "cell_type": "code",
   "execution_count": 112,
   "id": "462195c5",
   "metadata": {},
   "outputs": [
    {
     "name": "stdout",
     "output_type": "stream",
     "text": [
      "20\n",
      "20\n"
     ]
    }
   ],
   "source": [
    "import numpy as np\n",
    "\n",
    "# Create sample matrix to test function\n",
    "A = np.array([[1,2,3],\n",
    "              [2,3,4],\n",
    "              [3,4,5]])\n",
    "\n",
    "# Get row one\n",
    "r1 = A[0]\n",
    "\n",
    "# Get row two\n",
    "r2 = A[1]\n",
    "\n",
    "# Dot product of the two rows\n",
    "print(np.dot(r1,r2))\n",
    "\n",
    "# See if created function gets the same result\n",
    "row_dot(A,1,2) # Same result; function worked"
   ]
  },
  {
   "cell_type": "code",
   "execution_count": 113,
   "id": "daf10af0",
   "metadata": {},
   "outputs": [
    {
     "name": "stdout",
     "output_type": "stream",
     "text": [
      "Enter valid matrix in first argument\n"
     ]
    }
   ],
   "source": [
    "# Test if someone does not enter a matrix\n",
    "row_dot(1,2,3)"
   ]
  },
  {
   "cell_type": "code",
   "execution_count": 114,
   "id": "17c7e908",
   "metadata": {},
   "outputs": [
    {
     "name": "stdout",
     "output_type": "stream",
     "text": [
      "Enter valid matrix in first argument\n"
     ]
    }
   ],
   "source": [
    "# Test if someone does not enter a matrix\n",
    "row_dot('apple',2,3)"
   ]
  },
  {
   "cell_type": "code",
   "execution_count": 115,
   "id": "82bd08fb",
   "metadata": {},
   "outputs": [
    {
     "name": "stdout",
     "output_type": "stream",
     "text": [
      "One or more row numbers are out of matrix range\n"
     ]
    }
   ],
   "source": [
    "# Test valid matrix, but invalid rows\n",
    "row_dot(A,5,1)"
   ]
  },
  {
   "cell_type": "code",
   "execution_count": 116,
   "id": "463feeb9",
   "metadata": {},
   "outputs": [
    {
     "name": "stdout",
     "output_type": "stream",
     "text": [
      "Row lengths must be equal\n"
     ]
    },
    {
     "name": "stderr",
     "output_type": "stream",
     "text": [
      "C:\\Users\\artol\\AppData\\Local\\Temp/ipykernel_8104/2116368273.py:1: VisibleDeprecationWarning: Creating an ndarray from ragged nested sequences (which is a list-or-tuple of lists-or-tuples-or ndarrays with different lengths or shapes) is deprecated. If you meant to do this, you must specify 'dtype=object' when creating the ndarray.\n",
      "  A = np.array([[1,2,3],\n"
     ]
    }
   ],
   "source": [
    "A = np.array([[1,2,3],\n",
    "              [2,3],\n",
    "              [3,4,5]])\n",
    "\n",
    "# Test matrix with uneven rows\n",
    "row_dot(A,1,2)"
   ]
  },
  {
   "cell_type": "code",
   "execution_count": 120,
   "id": "608251d4",
   "metadata": {},
   "outputs": [
    {
     "name": "stdout",
     "output_type": "stream",
     "text": [
      "58\n"
     ]
    }
   ],
   "source": [
    "# Larger matrix example\n",
    "C = np.array([[1,2,3,1],\n",
    "              [2,3,4,2],\n",
    "              [3,4,5,3],\n",
    "               [5,4,7,4]])\n",
    "\n",
    "# Test with rows, other than 1st and 2nd\n",
    "row_dot(C,2,4)"
   ]
  },
  {
   "cell_type": "markdown",
   "id": "fd0485a1",
   "metadata": {},
   "source": [
    "### 4. Write a function matrix_division(m1, m2) that takes in two matrices, m1 and m2, and returns the result. What is the trick with matrix division?"
   ]
  },
  {
   "cell_type": "code",
   "execution_count": null,
   "id": "e0020a4b",
   "metadata": {},
   "outputs": [],
   "source": []
  },
  {
   "cell_type": "markdown",
   "id": "6df0d22c",
   "metadata": {},
   "source": [
    "### 5. Write a function is_orthogonal(v1,v2, tol), where v1 and v2 are column vectors of the same size and tol is a scalar value strictly larger than 0. The output should be 1 if the angle between v1 and v2 is within tol of π/2; that is, |π/2−θ|<tol|π/2−θ|<tol, and 0 otherwise. You may assume that v1 and v2 are column vectors of the same size, and that tol is a positive scalar."
   ]
  },
  {
   "cell_type": "code",
   "execution_count": null,
   "id": "da556150",
   "metadata": {},
   "outputs": [],
   "source": [
    "# Test cases for problem 4\n",
    "a = np.array([[1], [0.001]])\n",
    "b = np.array([[0.001], [1]])\n",
    "# output: 1\n",
    "is_orthogonal(a,b, 0.01)\n",
    "\n",
    "# output: 0\n",
    "is_orthogonal(a,b, 0.001)\n",
    "\n",
    "# output: 0\n",
    "a = np.array([[1], [0.001]])\n",
    "b = np.array([[1], [1]])\n",
    "is_orthogonal(a,b, 0.01)\n",
    "\n",
    "# output: 1\n",
    "a = np.array([[1], [1]])\n",
    "b = np.array([[-1], [1]])\n",
    "is_orthogonal(a,b, 1e-10)"
   ]
  },
  {
   "cell_type": "code",
   "execution_count": null,
   "id": "ea2a0443",
   "metadata": {},
   "outputs": [],
   "source": []
  },
  {
   "cell_type": "markdown",
   "id": "6d5a8425",
   "metadata": {},
   "source": [
    "### 6. Create a class called vector_calculator. __init__ should take self, vector1, and vector2. It should have two methods inside of it that are from problems 1 and 4 above (angle_between and is_orthogonal). Make sure tol is defaulted but can be overwritten. Make sure you can call angle_between and is_orthogonal through the class and return the correct results as in problems 1 and 4."
   ]
  },
  {
   "cell_type": "code",
   "execution_count": null,
   "id": "81cc2512",
   "metadata": {},
   "outputs": [],
   "source": []
  },
  {
   "cell_type": "markdown",
   "id": "56fa5e27",
   "metadata": {},
   "source": [
    "### 7.\tShow a graphical representation of the breast cancer data outlined in this reading https://www.datacamp.com/community/tutorials/principal-component-analysis-in-python Be sure to describe what PCA is and incorporate the principal components in your plot. This is just exploratory, so there are many correct answers!"
   ]
  }
 ],
 "metadata": {
  "kernelspec": {
   "display_name": "Python 3 (ipykernel)",
   "language": "python",
   "name": "python3"
  },
  "language_info": {
   "codemirror_mode": {
    "name": "ipython",
    "version": 3
   },
   "file_extension": ".py",
   "mimetype": "text/x-python",
   "name": "python",
   "nbconvert_exporter": "python",
   "pygments_lexer": "ipython3",
   "version": "3.9.7"
  }
 },
 "nbformat": 4,
 "nbformat_minor": 5
}
