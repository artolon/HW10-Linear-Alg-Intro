{
 "cells": [
  {
   "cell_type": "markdown",
   "id": "d07d2baf",
   "metadata": {},
   "source": [
    "# Homework 10: Basics of Linear Algebra"
   ]
  },
  {
   "cell_type": "markdown",
   "id": "6aac213c",
   "metadata": {},
   "source": [
    "**Directions:** Please be sure your functions work for vectors with a size of three and matrices that are 3x3. Bonus points if you can further generalize them for larger vectors and matrices"
   ]
  },
  {
   "cell_type": "markdown",
   "id": "2233e9e5",
   "metadata": {},
   "source": [
    "**Import Relavent Modules**"
   ]
  },
  {
   "cell_type": "code",
   "execution_count": 1,
   "id": "bea89e38",
   "metadata": {},
   "outputs": [],
   "source": [
    "from numpy.linalg import norm\n",
    "from numpy import arccos, dot\n",
    "import math"
   ]
  },
  {
   "cell_type": "markdown",
   "id": "0788cc6f",
   "metadata": {},
   "source": [
    " ### 1.\tExplain the dot product and cross product in your own words in markdown. Use LaTeX to properly show the equations."
   ]
  },
  {
   "cell_type": "markdown",
   "id": "b684d0a5",
   "metadata": {},
   "source": [
    "#### Dot Product\n",
    "\n",
    "The Dot product equation: \n",
    "$$\\vec{v} \\cdot \\vec{w} = \\sum_{i=1}^{n} v_iw_i  $$\n",
    "\n",
    "The equation above, displays the dot product of two vectors. The notation shows that we multiply the respective elements from each vector together (v1*w1, v2*w2, etc.). We then take the sum of those products.\n",
    "\n",
    "This results in a scalar value. That value essentially tells us how similarly directed two vectors are to one another. The dot product can also help us later calculate the angle between the two vectors. \n",
    "\n",
    "\n",
    "#### Cross Product\n",
    "\n",
    "The Cross product equation:\n",
    "$$\\vec{v}\\times\\vec{w} =|\\vec{v}|_2|\\vec{w}|_2\\sin(\\theta)\\ n$$\n",
    "\n",
    "The cross product of two vectors is defined in 3-dimensional space. The cross product calculation results in a vector. That vector is orthogonal to the two vectors used in the calculation. We can calculate the moment of force about a point as well as the angle between two vectors with the cross product."
   ]
  },
  {
   "cell_type": "markdown",
   "id": "c8dab6e4",
   "metadata": {},
   "source": [
    "### 2. Write a function angle_between(v1, v2) where v1 and v2 are two vectors that are passed in, and the angle between them is calculated."
   ]
  },
  {
   "cell_type": "markdown",
   "id": "79266a3a",
   "metadata": {},
   "source": [
    "**Manual Function**"
   ]
  },
  {
   "cell_type": "code",
   "execution_count": 2,
   "id": "5d5e19df",
   "metadata": {},
   "outputs": [],
   "source": [
    "# This function is designed to only utilize modules inherent in Python (i.e. 'math')\n",
    "# A user can call this function, even if they don't have numpy (or any other module) installed on their machine\n",
    "# This is why 'norm' and 'dot' functions are not called within this function\n",
    "\n",
    "# Define a function that accepts two arguments (vector v1 and vector v2)\n",
    "def angle_between(v1,v2):     \n",
    "    # import math to call on 'acos' and 'degrees'\n",
    "    import math\n",
    "    # Use Try/Except for error handling\n",
    "    try:\n",
    "        # Confirm the vectors are of equal length\n",
    "        if len(v1)==len(v2):\n",
    "            # For every index value in the range of the length of vector b, multiply vector a by vector b;\n",
    "            # Take the sum of that iteration and call it 'dot'\n",
    "            dot = sum([v1[i]*v2[i] for i in range(len(v2))])\n",
    "            \n",
    "            # Formula for magnitude of the first vector; take the square of every value, sum, and then sqrt\n",
    "            mag1 = (sum([v1[i]**2 for i in range(len(v1))]))**(1/2)\n",
    "            \n",
    "            # Repeat above formula, but for the second vector instead\n",
    "            mag2 = (sum([v2[i]**2 for i in range(len(v2))]))**(1/2)\n",
    "            \n",
    "            # Find the angle between the two vectors\n",
    "            angle = math.acos(dot/(mag1*mag2)) # outputs radians \n",
    "            \n",
    "            # Convert radians to degrees and round to 3 decimal points\n",
    "            angle_degrees = round(math.degrees(angle),3)\n",
    "            \n",
    "            # Add the degree sign, so that user knows this is degrees and not radians\n",
    "            degreesign = u\"\\N{DEGREE SIGN}\"\n",
    "            # Print with symbol\n",
    "            print(f\"{angle_degrees} \\N{DEGREE SIGN}\")\n",
    "        \n",
    "        # If vectors don't have the same dimension, tell user to try again\n",
    "        else:\n",
    "            print('Try again with vectors of same dimension')\n",
    "    \n",
    "    # Execute code regardless, but tell user to input a vector if they do not\n",
    "    except TypeError:\n",
    "        print('Please input two vectors')"
   ]
  },
  {
   "cell_type": "code",
   "execution_count": 3,
   "id": "3c74f9e5",
   "metadata": {},
   "outputs": [
    {
     "name": "stdout",
     "output_type": "stream",
     "text": [
      "150.189 °\n"
     ]
    }
   ],
   "source": [
    "# Test function with single 1x3 vectors\n",
    "v1 = [3,6,1]\n",
    "v2 = [-5,-9,4]\n",
    "\n",
    "angle_between(v1,v2)"
   ]
  },
  {
   "cell_type": "code",
   "execution_count": 4,
   "id": "e23a2ea5",
   "metadata": {},
   "outputs": [
    {
     "name": "stdout",
     "output_type": "stream",
     "text": [
      "106.348 °\n"
     ]
    }
   ],
   "source": [
    "# Test function with vectors of length 5\n",
    "v1 = [3,6,1,2,7]\n",
    "v2 = [-5,-9,4,9,1]\n",
    "\n",
    "angle_between(v1,v2)"
   ]
  },
  {
   "cell_type": "code",
   "execution_count": 5,
   "id": "cd942a4d",
   "metadata": {},
   "outputs": [
    {
     "name": "stdout",
     "output_type": "stream",
     "text": [
      "Try again with vectors of same dimension\n"
     ]
    }
   ],
   "source": [
    "# Test function with uneven vectors\n",
    "v1 = [3,6,1]\n",
    "v2 = [-5,-9,4,9,1]\n",
    "\n",
    "angle_between(v1,v2)"
   ]
  },
  {
   "cell_type": "code",
   "execution_count": 6,
   "id": "e3daf43e",
   "metadata": {},
   "outputs": [
    {
     "name": "stdout",
     "output_type": "stream",
     "text": [
      "Please input two vectors\n"
     ]
    }
   ],
   "source": [
    "# Test with non-vectors (scalars)\n",
    "v1 = 3\n",
    "v2 = 4\n",
    "\n",
    "angle_between(v1,v2)"
   ]
  },
  {
   "cell_type": "code",
   "execution_count": 7,
   "id": "d10fad1a",
   "metadata": {},
   "outputs": [
    {
     "name": "stdout",
     "output_type": "stream",
     "text": [
      "Please input two vectors\n"
     ]
    }
   ],
   "source": [
    "# Test with non-vectors (matrix)\n",
    "import numpy as np\n",
    "\n",
    "v1 = np.array([[1,2],\n",
    "               [3,4]])\n",
    "\n",
    "v1 = np.array([[5,6],\n",
    "               [7,8]])\n",
    "\n",
    "angle_between(v1,v2)"
   ]
  },
  {
   "cell_type": "markdown",
   "id": "8b4230e7",
   "metadata": {},
   "source": [
    "### 3. Write a function called row_dot(A, r1, r2) which takes an input matrix called A, one row number identified by r1, and another row number identified by r2 and returns the dot product of the r1 and r2 rows (indexing starts at 0)."
   ]
  },
  {
   "cell_type": "code",
   "execution_count": 10,
   "id": "6e67606a",
   "metadata": {},
   "outputs": [],
   "source": [
    "# Define a function that accepts a matrix called 'A' and two row numbers from the matrix\n",
    "# Find the dot product of those rows\n",
    "def row_dot(A,r1,r2):\n",
    "    # use try except for error handling\n",
    "    try:  \n",
    "        # If the row number arguments are integers\n",
    "        if type(r1) and type(r2) == int:\n",
    "            # Find the index position that is equivalent to the row number requested.\n",
    "            row_a = A[r1]\n",
    "        \n",
    "            # Repeat process for the next requested row\n",
    "            row_b = A[r2]\n",
    "            \n",
    "            # Ensure the two rows are equal to each other\n",
    "            if len(row_a)==len(row_b):\n",
    "                # Calculate do product of the requested rows\n",
    "                dot = sum([row_a[i]*row_b[i] for i in range(len(row_b))])\n",
    "                print(dot) # print the dot product\n",
    "                \n",
    "            # Message requesting that rows be equal\n",
    "            else:\n",
    "                print('Row lengths must be equal')\n",
    "                \n",
    "        # Message requesting that valid row numbers are entered in the function\n",
    "        else:\n",
    "            print('Please put valid row numbers in args 2 and 3')\n",
    "    \n",
    "    # Error message if users enter incorrect arguments\n",
    "    except IndexError:\n",
    "        print('One or more row numbers are out of matrix range')\n",
    "    except TypeError:\n",
    "        print('Enter valid matrix in first argument')"
   ]
  },
  {
   "cell_type": "code",
   "execution_count": 12,
   "id": "462195c5",
   "metadata": {},
   "outputs": [
    {
     "name": "stdout",
     "output_type": "stream",
     "text": [
      "20\n",
      "20\n"
     ]
    }
   ],
   "source": [
    "import numpy as np\n",
    "\n",
    "# Create sample matrix to test function\n",
    "A = np.array([[1,2,3],\n",
    "              [2,3,4],\n",
    "              [3,4,5]])\n",
    "\n",
    "# Get row one\n",
    "r1 = A[0]\n",
    "\n",
    "# Get row two\n",
    "r2 = A[1]\n",
    "\n",
    "# Dot product of the two rows\n",
    "print(np.dot(r1,r2))\n",
    "\n",
    "# See if created function gets the same result\n",
    "row_dot(A,0,1) # Same result; function worked"
   ]
  },
  {
   "cell_type": "code",
   "execution_count": 13,
   "id": "daf10af0",
   "metadata": {},
   "outputs": [
    {
     "name": "stdout",
     "output_type": "stream",
     "text": [
      "Enter valid matrix in first argument\n"
     ]
    }
   ],
   "source": [
    "# Test if someone does not enter a matrix\n",
    "row_dot(1,2,3)"
   ]
  },
  {
   "cell_type": "code",
   "execution_count": 14,
   "id": "17c7e908",
   "metadata": {},
   "outputs": [
    {
     "name": "stdout",
     "output_type": "stream",
     "text": [
      "Enter valid matrix in first argument\n"
     ]
    }
   ],
   "source": [
    "# Test if someone does not enter a matrix\n",
    "row_dot('apple',2,3)"
   ]
  },
  {
   "cell_type": "code",
   "execution_count": 15,
   "id": "82bd08fb",
   "metadata": {},
   "outputs": [
    {
     "name": "stdout",
     "output_type": "stream",
     "text": [
      "One or more row numbers are out of matrix range\n"
     ]
    }
   ],
   "source": [
    "# Test valid matrix, but invalid rows\n",
    "row_dot(A,5,1)"
   ]
  },
  {
   "cell_type": "code",
   "execution_count": 16,
   "id": "463feeb9",
   "metadata": {},
   "outputs": [
    {
     "name": "stdout",
     "output_type": "stream",
     "text": [
      "Row lengths must be equal\n"
     ]
    },
    {
     "name": "stderr",
     "output_type": "stream",
     "text": [
      "C:\\Users\\artol\\AppData\\Local\\Temp/ipykernel_17076/2116368273.py:1: VisibleDeprecationWarning: Creating an ndarray from ragged nested sequences (which is a list-or-tuple of lists-or-tuples-or ndarrays with different lengths or shapes) is deprecated. If you meant to do this, you must specify 'dtype=object' when creating the ndarray.\n",
      "  A = np.array([[1,2,3],\n"
     ]
    }
   ],
   "source": [
    "A = np.array([[1,2,3],\n",
    "              [2,3],\n",
    "              [3,4,5]])\n",
    "\n",
    "# Test matrix with uneven rows\n",
    "row_dot(A,1,2)"
   ]
  },
  {
   "cell_type": "code",
   "execution_count": 18,
   "id": "608251d4",
   "metadata": {},
   "outputs": [
    {
     "name": "stdout",
     "output_type": "stream",
     "text": [
      "58\n"
     ]
    }
   ],
   "source": [
    "# Larger matrix example\n",
    "C = np.array([[1,2,3,1],\n",
    "              [2,3,4,2],\n",
    "              [3,4,5,3],\n",
    "               [5,4,7,4]])\n",
    "\n",
    "# Test with rows, other than 1st and 2nd\n",
    "row_dot(C,1,3)"
   ]
  },
  {
   "cell_type": "markdown",
   "id": "fd0485a1",
   "metadata": {},
   "source": [
    "### 4. Write a function matrix_division(m1, m2) that takes in two matrices, m1 and m2, and returns the result. What is the trick with matrix division?\n",
    "\n",
    "The trick is that you have to multiply the matrix by the inverse of the other matrix, since you cannot technically divide two matrices with each other."
   ]
  },
  {
   "cell_type": "code",
   "execution_count": 19,
   "id": "e0020a4b",
   "metadata": {},
   "outputs": [],
   "source": [
    "# Create a function that divides matrices \n",
    "def matrix_division(m1, m2):\n",
    "    \n",
    "    # Import numpy to use linalg function\n",
    "    import numpy as np\n",
    "    \n",
    "    # For the divisor (m2), check that the number of rows are equal to the number of columns\n",
    "    # AND check that the number of columns in m1 equal the number of rows in m2\n",
    "    # Finally, check that the determinant of the divisor does not equal zero\n",
    "    if len(m2) == len(m2[0]) and len(m1[0])==len(m2) and np.linalg.det(m2)!=0:\n",
    "        \n",
    "        # Find the inverse of the 2nd argument\n",
    "        inverse = np.linalg.inv(m2)\n",
    "        \n",
    "        # Find the dot product of the first matrix with the inverse of the second\n",
    "        answer = np.dot(m1,inverse) \n",
    "        print(answer)\n",
    "    \n",
    "    # Tell user to input divisible matrices\n",
    "    else:\n",
    "        print('Check that these matrices are possible to divide')   "
   ]
  },
  {
   "cell_type": "code",
   "execution_count": 20,
   "id": "f71e63a8",
   "metadata": {},
   "outputs": [
    {
     "name": "stdout",
     "output_type": "stream",
     "text": [
      "[[-1. 10.]\n",
      " [ 7. -5.]]\n"
     ]
    }
   ],
   "source": [
    "# Sample matrices 2x2\n",
    "A = np.array([[7,4],\n",
    "             [2,3]])\n",
    "B = np.array([[13,26],\n",
    "             [39,13]])\n",
    "\n",
    "# Check function with sample\n",
    "C = matrix_division(B,A)\n",
    "C"
   ]
  },
  {
   "cell_type": "code",
   "execution_count": 21,
   "id": "38108987",
   "metadata": {},
   "outputs": [
    {
     "name": "stdout",
     "output_type": "stream",
     "text": [
      "[[-1.56896552 -0.81034483  0.56896552]\n",
      " [ 7.15517241 -2.05172414 -0.15517241]\n",
      " [-4.5464191  -0.76657825  1.00795756]]\n"
     ]
    },
    {
     "data": {
      "text/plain": [
       "(3, 3)"
      ]
     },
     "execution_count": 21,
     "metadata": {},
     "output_type": "execute_result"
    }
   ],
   "source": [
    "# Check with 3x3 matrix\n",
    "A = np.array([[7,4,2],\n",
    "             [2,3,4],\n",
    "             [45,61,20]])\n",
    "\n",
    "B = np.array([[13,26,5],\n",
    "             [39,13,3],\n",
    "             [12,41,8]])\n",
    "\n",
    "# Check function with sample\n",
    "C = matrix_division(B,A)\n",
    "C\n",
    "\n",
    "B.shape\n",
    "A.shape"
   ]
  },
  {
   "cell_type": "code",
   "execution_count": 22,
   "id": "912c133d",
   "metadata": {},
   "outputs": [
    {
     "name": "stdout",
     "output_type": "stream",
     "text": [
      "Check that these matrices are possible to divide\n"
     ]
    },
    {
     "data": {
      "text/plain": [
       "(3, 3)"
      ]
     },
     "execution_count": 22,
     "metadata": {},
     "output_type": "execute_result"
    }
   ],
   "source": [
    "# Check with uneven matrices\n",
    "A = np.array([[7,4,2,7,8],\n",
    "             [2,3,4,9,2],\n",
    "             [45,61,20,3,9],\n",
    "             [4,7,8,11,12],\n",
    "             [3,3,3,44,55]])\n",
    "\n",
    "B = np.array([[13,26,5],\n",
    "             [39,13,3],\n",
    "             [12,41,8]])\n",
    "\n",
    "# Check function with sample\n",
    "C = matrix_division(B,A)\n",
    "C\n",
    "\n",
    "A.shape\n",
    "B.shape"
   ]
  },
  {
   "cell_type": "code",
   "execution_count": 23,
   "id": "bffb5bbc",
   "metadata": {},
   "outputs": [
    {
     "name": "stdout",
     "output_type": "stream",
     "text": [
      "[[-3.2037987  11.54784027  0.7820653  -6.89076039  1.56700447]\n",
      " [ 7.27380021 -0.66663065 -0.13780332 -0.43570518 -0.87978997]\n",
      " [-5.20463709  3.03450809  1.07685559 -2.29270295  1.02525119]\n",
      " [-1.73874111 14.48960652  0.21003911 -7.35548521  1.38738521]\n",
      " [ 1.39399728 -4.78617732 -0.19967156  3.38763802  0.08301389]]\n"
     ]
    }
   ],
   "source": [
    "# Check with 5x5 matrix\n",
    "A = np.array([[7,4,2,7,8],\n",
    "             [2,3,4,9,2],\n",
    "             [45,61,20,3,9],\n",
    "             [4,7,8,11,12],\n",
    "             [3,3,3,44,55]])\n",
    "\n",
    "B = np.array([[13,26,5,77,8],\n",
    "             [39,13,3,1,2],\n",
    "             [12,41,8,14,3],\n",
    "             [1,2,4,99,5],\n",
    "             [5,3,7,7,45]])\n",
    "\n",
    "# Check function with sample\n",
    "C = matrix_division(B,A)\n",
    "C"
   ]
  },
  {
   "cell_type": "markdown",
   "id": "6df0d22c",
   "metadata": {},
   "source": [
    "### 5. Write a function is_orthogonal(v1,v2, tol), where v1 and v2 are column vectors of the same size and tol is a scalar value strictly larger than 0. The output should be 1 if the angle between v1 and v2 is within tol of π/2; that is, |π/2−θ|<tol, and 0 otherwise. "
   ]
  },
  {
   "cell_type": "code",
   "execution_count": 24,
   "id": "b16747c0",
   "metadata": {},
   "outputs": [],
   "source": [
    "def is_orthogonal(v1,v2,tol):\n",
    "    import math\n",
    "    \n",
    "    if len(v1)==len(v2):\n",
    "        # Find the angle between two vectors\n",
    "        \n",
    "            # For every index value in the range of the length of vector b, multiply vector a by vector b;\n",
    "            # Take the sum of that iteration and call it 'dot'\n",
    "            dot = sum([v1[i]*v2[i] for i in range(len(v2))])\n",
    "            \n",
    "            # Formula for magnitude of the first vector; take the square of every value, sum, and then sqrt\n",
    "            mag1 = (sum([v1[i]**2 for i in range(len(v1))]))**(1/2)\n",
    "            \n",
    "            # Repeat above formula, but for the second vector instead\n",
    "            mag2 = (sum([v2[i]**2 for i in range(len(v2))]))**(1/2)\n",
    "            \n",
    "            # Find the angle between the two vectors\n",
    "            angle = math.acos(dot/(mag1*mag2)) # outputs radians \n",
    "            \n",
    "            # Using calculated angle from above, return 0 or 1, if angle is within tol of pi/2\n",
    "            if abs((math.pi/2)-angle)<tol:\n",
    "                return 1 # condition met\n",
    "            else:\n",
    "                return 0 # condition not met"
   ]
  },
  {
   "cell_type": "markdown",
   "id": "9b5c6c37",
   "metadata": {},
   "source": [
    "Test function with output given below"
   ]
  },
  {
   "cell_type": "code",
   "execution_count": 25,
   "id": "da556150",
   "metadata": {},
   "outputs": [
    {
     "name": "stdout",
     "output_type": "stream",
     "text": [
      "1\n",
      "0\n",
      "0\n",
      "1\n"
     ]
    }
   ],
   "source": [
    "import numpy as np\n",
    "\n",
    "# Test cases for problem 5\n",
    "a = np.array([[1], [0.001]])\n",
    "b = np.array([[0.001], [1]])\n",
    "# output: 1\n",
    "print(is_orthogonal(a,b, 0.01))\n",
    "\n",
    "# output: 0\n",
    "print(is_orthogonal(a,b, 0.001))\n",
    "\n",
    "# output: 0\n",
    "a = np.array([[1], [0.001]])\n",
    "b = np.array([[1], [1]])\n",
    "print(is_orthogonal(a,b, 0.01))\n",
    "\n",
    "# output: 1\n",
    "a = np.array([[1], [1]])\n",
    "b = np.array([[-1], [1]])\n",
    "print(is_orthogonal(a,b, 1e-10))"
   ]
  },
  {
   "cell_type": "markdown",
   "id": "6d5a8425",
   "metadata": {},
   "source": [
    "### 6. Create a class called vector_calculator. __init__ should take self, vector1, and vector2. It should have two methods inside of it that are from problems 1 and 4 above (angle_between and is_orthogonal). Make sure tol is defaulted but can be overwritten. Make sure you can call angle_between and is_orthogonal through the class and return the correct results as in problems 1 and 4."
   ]
  },
  {
   "cell_type": "code",
   "execution_count": 26,
   "id": "81cc2512",
   "metadata": {},
   "outputs": [],
   "source": [
    "class vector_calculator():\n",
    "    \n",
    "    def __init__(self, vector1, vector2):\n",
    "        self.v1 = vector1\n",
    "        self.v2 = vector2\n",
    "    \n",
    "    # angle_between function from previous question\n",
    "    def angle_between(self, v1, v2):   \n",
    "        # import math to call on 'acos' and 'degrees'\n",
    "        import math\n",
    "        # Use Try/Except for error handling\n",
    "        try:\n",
    "            # Confirm the vectors are of equal length\n",
    "            if len(v1)==len(v2):\n",
    "                # For every index value in the range of the length of vector b, multiply vector a by vector b;\n",
    "                # Take the sum of that iteration and call it 'dot'\n",
    "                dot = sum([v1[i]*v2[i] for i in range(len(v2))])\n",
    "\n",
    "                # Formula for magnitude of the first vector; take the square of every value, sum, and then sqrt\n",
    "                mag1 = (sum([v1[i]**2 for i in range(len(v1))]))**(1/2)\n",
    "\n",
    "                # Repeat above formula, but for the second vector instead\n",
    "                mag2 = (sum([v2[i]**2 for i in range(len(v2))]))**(1/2)\n",
    "\n",
    "                # Find the angle between the two vectors\n",
    "                angle = math.acos(dot/(mag1*mag2)) # outputs radians \n",
    "\n",
    "                # Convert radians to degrees and round to 3 decimal points\n",
    "                angle_degrees = round(math.degrees(angle),3)\n",
    "\n",
    "                # Add the degree sign, so that user knows this is degrees and not radians\n",
    "                degreesign = u\"\\N{DEGREE SIGN}\"\n",
    "                # Print with symbol\n",
    "                print(f\"{angle_degrees} \\N{DEGREE SIGN}\")\n",
    "\n",
    "            # If vectors don't have the same dimension, tell user to try again\n",
    "            else:\n",
    "                print('Try again with vectors of same dimension')\n",
    "\n",
    "        # Execute code regardless, but tell user to input a vector if they do not\n",
    "        except TypeError:\n",
    "            print('Please input two vectors')\n",
    "    \n",
    "    # is_orthogonal function from previous problem\n",
    "    def is_orthogonal(self,v1,v2,tol):\n",
    "        import math\n",
    "        if len(v1)==len(v2):\n",
    "            # Find the angle between two vectors\n",
    "\n",
    "                # For every index value in the range of the length of vector b, multiply vector a by vector b;\n",
    "                # Take the sum of that iteration and call it 'dot'\n",
    "                dot = sum([v1[i]*v2[i] for i in range(len(v2))])\n",
    "\n",
    "                # Formula for magnitude of the first vector; take the square of every value, sum, and then sqrt\n",
    "                mag1 = (sum([v1[i]**2 for i in range(len(v1))]))**(1/2)\n",
    "\n",
    "                # Repeat above formula, but for the second vector instead\n",
    "                mag2 = (sum([v2[i]**2 for i in range(len(v2))]))**(1/2)\n",
    "\n",
    "                # Find the angle between the two vectors\n",
    "                angle = math.acos(dot/(mag1*mag2)) # outputs radians \n",
    "\n",
    "                # Using calculated angle from above, return 0 or 1, if angle is within tol of pi/2\n",
    "                if abs((math.pi/2)-angle)<tol:\n",
    "                    return 1 # condition met\n",
    "                else:\n",
    "                    return 0 # condition not met"
   ]
  },
  {
   "cell_type": "code",
   "execution_count": 27,
   "id": "9d688306",
   "metadata": {},
   "outputs": [],
   "source": [
    "# Use the same two vectors that were in the test case for #5\n",
    "\n",
    "# Test cases for problem 5\n",
    "a = np.array([[1], [0.001]])\n",
    "b = np.array([[0.001], [1]])"
   ]
  },
  {
   "cell_type": "code",
   "execution_count": 28,
   "id": "d3b08fd5",
   "metadata": {},
   "outputs": [
    {
     "name": "stdout",
     "output_type": "stream",
     "text": [
      "<__main__.vector_calculator object at 0x00000250CE3C8F70>\n"
     ]
    }
   ],
   "source": [
    "# Create an object\n",
    "my_object = vector_calculator(a,b)\n",
    "print(my_object) # Confirm object was created"
   ]
  },
  {
   "cell_type": "code",
   "execution_count": 29,
   "id": "193f13d1",
   "metadata": {},
   "outputs": [
    {
     "name": "stdout",
     "output_type": "stream",
     "text": [
      "[[1.   ]\n",
      " [0.001]]\n"
     ]
    }
   ],
   "source": [
    "# Call the first vector as a test\n",
    "print(my_object.v1)"
   ]
  },
  {
   "cell_type": "code",
   "execution_count": 30,
   "id": "a079a935",
   "metadata": {},
   "outputs": [
    {
     "name": "stdout",
     "output_type": "stream",
     "text": [
      "[[0.001]\n",
      " [1.   ]]\n"
     ]
    }
   ],
   "source": [
    "# Call the 2nd vector as a test\n",
    "print(my_object.v2)"
   ]
  },
  {
   "cell_type": "code",
   "execution_count": 31,
   "id": "b5fefa1e",
   "metadata": {},
   "outputs": [
    {
     "name": "stdout",
     "output_type": "stream",
     "text": [
      "89.885 °\n"
     ]
    }
   ],
   "source": [
    "# Call the 'angle_between' method on my_object\n",
    "my_object.angle_between(a,b) # successfully prints the angle between the two vectors"
   ]
  },
  {
   "cell_type": "code",
   "execution_count": 32,
   "id": "9513f4e2",
   "metadata": {},
   "outputs": [
    {
     "data": {
      "text/plain": [
       "1"
      ]
     },
     "execution_count": 32,
     "metadata": {},
     "output_type": "execute_result"
    }
   ],
   "source": [
    "# Call the 'is_orthogonal' method on my_object\n",
    "my_object.is_orthogonal(a,b,0.01) # answer is still correct"
   ]
  },
  {
   "cell_type": "markdown",
   "id": "56fa5e27",
   "metadata": {},
   "source": [
    "### 7.\tShow a graphical representation of the breast cancer data outlined in this reading https://www.datacamp.com/community/tutorials/principal-component-analysis-in-python Be sure to describe what PCA is and incorporate the principal components in your plot. This is just exploratory, so there are many correct answers!"
   ]
  },
  {
   "cell_type": "markdown",
   "id": "51ca1ee4",
   "metadata": {},
   "source": [
    "PCA is **Principal Component Analysis**. It is a technique that can provide insights by plotting data from higher dimensions (or feature elements/variables) onto lower dimensions (features, or variables). In the process of doing a PCA, we are finding dimensions/variables that are possibly correlated with one another. We then group those into sets of data points that are linearly *uncorrelated* in order to maximize the amount of variance/information for our analysis. Those values are the 'principal components (PCs).' \n",
    "\n",
    "Through this analysis, we will also learn the amount of variance (or information) that our principal components are holding. We determine this through both the direction (tells us *where* we have the most variance within the data) and the magnitude (tells us *how much* variance we are actually capturing through the PCs).\n",
    "\n",
    "In sum:\n",
    "- We can transform a very large number of variables into a smaller set of variables, while still retaining most of the information from the original data set. \n",
    "- Basically, trying to reduce the number of variables in a data set, while retaining as much information as possible.\n",
    "- This allows us to analyze the data more easily and also work with machine learning algorithms more easily.\n",
    "- Trading a little bit of accuracy for the sake of simplicity and usability"
   ]
  },
  {
   "cell_type": "code",
   "execution_count": 33,
   "id": "fbb86ad7",
   "metadata": {},
   "outputs": [],
   "source": [
    "# Relavent modules\n",
    "import pandas as pd\n",
    "import seaborn as sns\n",
    "import matplotlib.pyplot as plt"
   ]
  },
  {
   "cell_type": "code",
   "execution_count": 34,
   "id": "102ac9a5",
   "metadata": {},
   "outputs": [],
   "source": [
    "# Import the breast cancer data set from sklearn\n",
    "from sklearn.datasets import load_breast_cancer # this gives us the labels and the data\n",
    "from sklearn.preprocessing import StandardScaler # this allows us to standardize our variables for transformation\n",
    "from sklearn.decomposition import PCA # this allows us to get principal components"
   ]
  },
  {
   "cell_type": "code",
   "execution_count": 35,
   "id": "b6cc75d7",
   "metadata": {},
   "outputs": [
    {
     "data": {
      "text/plain": [
       "(569, 30)"
      ]
     },
     "execution_count": 35,
     "metadata": {},
     "output_type": "execute_result"
    }
   ],
   "source": [
    "# Load the data that we just imported and call it 'breast'\n",
    "breast = load_breast_cancer()\n",
    "\n",
    "# call the data from the data set\n",
    "breast_data = breast.data \n",
    "\n",
    "# Examine the shape\n",
    "breast_data.shape # 569 rows (samples) and 30 columns (features)"
   ]
  },
  {
   "cell_type": "code",
   "execution_count": 37,
   "id": "30df016d",
   "metadata": {},
   "outputs": [],
   "source": [
    "# Load the labels\n",
    "  # 0 = Benign\n",
    "  # 1 = Malignant  \n",
    "breast_labels = breast.target"
   ]
  },
  {
   "cell_type": "code",
   "execution_count": 38,
   "id": "6343c8ca",
   "metadata": {},
   "outputs": [
    {
     "data": {
      "text/plain": [
       "(569, 31)"
      ]
     },
     "execution_count": 38,
     "metadata": {},
     "output_type": "execute_result"
    }
   ],
   "source": [
    "# Reshape labels to concatenate with breast_data, so that we can make a DataFrame\n",
    "labels = np.reshape(breast_labels,(569,1))\n",
    "\n",
    "# Concatenate the data and the labels\n",
    "final_breast_data = np.concatenate([breast_data, labels], axis=1)\n",
    "\n",
    "# Check the shape\n",
    "final_breast_data.shape"
   ]
  },
  {
   "cell_type": "code",
   "execution_count": 39,
   "id": "14dbf9f6",
   "metadata": {},
   "outputs": [
    {
     "data": {
      "text/html": [
       "<div>\n",
       "<style scoped>\n",
       "    .dataframe tbody tr th:only-of-type {\n",
       "        vertical-align: middle;\n",
       "    }\n",
       "\n",
       "    .dataframe tbody tr th {\n",
       "        vertical-align: top;\n",
       "    }\n",
       "\n",
       "    .dataframe thead th {\n",
       "        text-align: right;\n",
       "    }\n",
       "</style>\n",
       "<table border=\"1\" class=\"dataframe\">\n",
       "  <thead>\n",
       "    <tr style=\"text-align: right;\">\n",
       "      <th></th>\n",
       "      <th>0</th>\n",
       "      <th>1</th>\n",
       "      <th>2</th>\n",
       "      <th>3</th>\n",
       "      <th>4</th>\n",
       "      <th>5</th>\n",
       "      <th>6</th>\n",
       "      <th>7</th>\n",
       "      <th>8</th>\n",
       "      <th>9</th>\n",
       "      <th>...</th>\n",
       "      <th>21</th>\n",
       "      <th>22</th>\n",
       "      <th>23</th>\n",
       "      <th>24</th>\n",
       "      <th>25</th>\n",
       "      <th>26</th>\n",
       "      <th>27</th>\n",
       "      <th>28</th>\n",
       "      <th>29</th>\n",
       "      <th>30</th>\n",
       "    </tr>\n",
       "  </thead>\n",
       "  <tbody>\n",
       "    <tr>\n",
       "      <th>0</th>\n",
       "      <td>17.99</td>\n",
       "      <td>10.38</td>\n",
       "      <td>122.80</td>\n",
       "      <td>1001.0</td>\n",
       "      <td>0.11840</td>\n",
       "      <td>0.27760</td>\n",
       "      <td>0.3001</td>\n",
       "      <td>0.14710</td>\n",
       "      <td>0.2419</td>\n",
       "      <td>0.07871</td>\n",
       "      <td>...</td>\n",
       "      <td>17.33</td>\n",
       "      <td>184.60</td>\n",
       "      <td>2019.0</td>\n",
       "      <td>0.1622</td>\n",
       "      <td>0.6656</td>\n",
       "      <td>0.7119</td>\n",
       "      <td>0.2654</td>\n",
       "      <td>0.4601</td>\n",
       "      <td>0.11890</td>\n",
       "      <td>0.0</td>\n",
       "    </tr>\n",
       "    <tr>\n",
       "      <th>1</th>\n",
       "      <td>20.57</td>\n",
       "      <td>17.77</td>\n",
       "      <td>132.90</td>\n",
       "      <td>1326.0</td>\n",
       "      <td>0.08474</td>\n",
       "      <td>0.07864</td>\n",
       "      <td>0.0869</td>\n",
       "      <td>0.07017</td>\n",
       "      <td>0.1812</td>\n",
       "      <td>0.05667</td>\n",
       "      <td>...</td>\n",
       "      <td>23.41</td>\n",
       "      <td>158.80</td>\n",
       "      <td>1956.0</td>\n",
       "      <td>0.1238</td>\n",
       "      <td>0.1866</td>\n",
       "      <td>0.2416</td>\n",
       "      <td>0.1860</td>\n",
       "      <td>0.2750</td>\n",
       "      <td>0.08902</td>\n",
       "      <td>0.0</td>\n",
       "    </tr>\n",
       "    <tr>\n",
       "      <th>2</th>\n",
       "      <td>19.69</td>\n",
       "      <td>21.25</td>\n",
       "      <td>130.00</td>\n",
       "      <td>1203.0</td>\n",
       "      <td>0.10960</td>\n",
       "      <td>0.15990</td>\n",
       "      <td>0.1974</td>\n",
       "      <td>0.12790</td>\n",
       "      <td>0.2069</td>\n",
       "      <td>0.05999</td>\n",
       "      <td>...</td>\n",
       "      <td>25.53</td>\n",
       "      <td>152.50</td>\n",
       "      <td>1709.0</td>\n",
       "      <td>0.1444</td>\n",
       "      <td>0.4245</td>\n",
       "      <td>0.4504</td>\n",
       "      <td>0.2430</td>\n",
       "      <td>0.3613</td>\n",
       "      <td>0.08758</td>\n",
       "      <td>0.0</td>\n",
       "    </tr>\n",
       "    <tr>\n",
       "      <th>3</th>\n",
       "      <td>11.42</td>\n",
       "      <td>20.38</td>\n",
       "      <td>77.58</td>\n",
       "      <td>386.1</td>\n",
       "      <td>0.14250</td>\n",
       "      <td>0.28390</td>\n",
       "      <td>0.2414</td>\n",
       "      <td>0.10520</td>\n",
       "      <td>0.2597</td>\n",
       "      <td>0.09744</td>\n",
       "      <td>...</td>\n",
       "      <td>26.50</td>\n",
       "      <td>98.87</td>\n",
       "      <td>567.7</td>\n",
       "      <td>0.2098</td>\n",
       "      <td>0.8663</td>\n",
       "      <td>0.6869</td>\n",
       "      <td>0.2575</td>\n",
       "      <td>0.6638</td>\n",
       "      <td>0.17300</td>\n",
       "      <td>0.0</td>\n",
       "    </tr>\n",
       "    <tr>\n",
       "      <th>4</th>\n",
       "      <td>20.29</td>\n",
       "      <td>14.34</td>\n",
       "      <td>135.10</td>\n",
       "      <td>1297.0</td>\n",
       "      <td>0.10030</td>\n",
       "      <td>0.13280</td>\n",
       "      <td>0.1980</td>\n",
       "      <td>0.10430</td>\n",
       "      <td>0.1809</td>\n",
       "      <td>0.05883</td>\n",
       "      <td>...</td>\n",
       "      <td>16.67</td>\n",
       "      <td>152.20</td>\n",
       "      <td>1575.0</td>\n",
       "      <td>0.1374</td>\n",
       "      <td>0.2050</td>\n",
       "      <td>0.4000</td>\n",
       "      <td>0.1625</td>\n",
       "      <td>0.2364</td>\n",
       "      <td>0.07678</td>\n",
       "      <td>0.0</td>\n",
       "    </tr>\n",
       "  </tbody>\n",
       "</table>\n",
       "<p>5 rows × 31 columns</p>\n",
       "</div>"
      ],
      "text/plain": [
       "      0      1       2       3        4        5       6        7       8   \\\n",
       "0  17.99  10.38  122.80  1001.0  0.11840  0.27760  0.3001  0.14710  0.2419   \n",
       "1  20.57  17.77  132.90  1326.0  0.08474  0.07864  0.0869  0.07017  0.1812   \n",
       "2  19.69  21.25  130.00  1203.0  0.10960  0.15990  0.1974  0.12790  0.2069   \n",
       "3  11.42  20.38   77.58   386.1  0.14250  0.28390  0.2414  0.10520  0.2597   \n",
       "4  20.29  14.34  135.10  1297.0  0.10030  0.13280  0.1980  0.10430  0.1809   \n",
       "\n",
       "        9   ...     21      22      23      24      25      26      27  \\\n",
       "0  0.07871  ...  17.33  184.60  2019.0  0.1622  0.6656  0.7119  0.2654   \n",
       "1  0.05667  ...  23.41  158.80  1956.0  0.1238  0.1866  0.2416  0.1860   \n",
       "2  0.05999  ...  25.53  152.50  1709.0  0.1444  0.4245  0.4504  0.2430   \n",
       "3  0.09744  ...  26.50   98.87   567.7  0.2098  0.8663  0.6869  0.2575   \n",
       "4  0.05883  ...  16.67  152.20  1575.0  0.1374  0.2050  0.4000  0.1625   \n",
       "\n",
       "       28       29   30  \n",
       "0  0.4601  0.11890  0.0  \n",
       "1  0.2750  0.08902  0.0  \n",
       "2  0.3613  0.08758  0.0  \n",
       "3  0.6638  0.17300  0.0  \n",
       "4  0.2364  0.07678  0.0  \n",
       "\n",
       "[5 rows x 31 columns]"
      ]
     },
     "execution_count": 39,
     "metadata": {},
     "output_type": "execute_result"
    }
   ],
   "source": [
    "# Create a data frame out of the data\n",
    "breast_dataset = pd.DataFrame(final_breast_data)\n",
    "\n",
    "# Inspect the data\n",
    "breast_dataset.head()\n",
    "\n",
    "# This shows us the 30 'features' (columns) of the data.\n",
    "# However, without the columns labels, we are unsure of the meaning"
   ]
  },
  {
   "cell_type": "code",
   "execution_count": 40,
   "id": "cc0f46e3",
   "metadata": {},
   "outputs": [
    {
     "data": {
      "text/plain": [
       "array(['mean radius', 'mean texture', 'mean perimeter', 'mean area',\n",
       "       'mean smoothness', 'mean compactness', 'mean concavity',\n",
       "       'mean concave points', 'mean symmetry', 'mean fractal dimension',\n",
       "       'radius error', 'texture error', 'perimeter error', 'area error',\n",
       "       'smoothness error', 'compactness error', 'concavity error',\n",
       "       'concave points error', 'symmetry error',\n",
       "       'fractal dimension error', 'worst radius', 'worst texture',\n",
       "       'worst perimeter', 'worst area', 'worst smoothness',\n",
       "       'worst compactness', 'worst concavity', 'worst concave points',\n",
       "       'worst symmetry', 'worst fractal dimension'], dtype='<U23')"
      ]
     },
     "execution_count": 40,
     "metadata": {},
     "output_type": "execute_result"
    }
   ],
   "source": [
    "# Print the features (30 of them) in the data set\n",
    "features = breast.feature_names\n",
    "features # These are the features that correspond with the numbers above"
   ]
  },
  {
   "cell_type": "code",
   "execution_count": 41,
   "id": "6741d66c",
   "metadata": {},
   "outputs": [
    {
     "data": {
      "text/plain": [
       "array(['mean radius', 'mean texture', 'mean perimeter', 'mean area',\n",
       "       'mean smoothness', 'mean compactness', 'mean concavity',\n",
       "       'mean concave points', 'mean symmetry', 'mean fractal dimension',\n",
       "       'radius error', 'texture error', 'perimeter error', 'area error',\n",
       "       'smoothness error', 'compactness error', 'concavity error',\n",
       "       'concave points error', 'symmetry error',\n",
       "       'fractal dimension error', 'worst radius', 'worst texture',\n",
       "       'worst perimeter', 'worst area', 'worst smoothness',\n",
       "       'worst compactness', 'worst concavity', 'worst concave points',\n",
       "       'worst symmetry', 'worst fractal dimension', 'label'], dtype='<U23')"
      ]
     },
     "execution_count": 41,
     "metadata": {},
     "output_type": "execute_result"
    }
   ],
   "source": [
    "# Manually append the 'label' feature to the 'features' object\n",
    "features_labels = np.append(features, 'label')\n",
    "features_labels # see now that 'label' is added after 'dimension'"
   ]
  },
  {
   "cell_type": "code",
   "execution_count": 42,
   "id": "8ff31cf9",
   "metadata": {},
   "outputs": [
    {
     "data": {
      "text/html": [
       "<div>\n",
       "<style scoped>\n",
       "    .dataframe tbody tr th:only-of-type {\n",
       "        vertical-align: middle;\n",
       "    }\n",
       "\n",
       "    .dataframe tbody tr th {\n",
       "        vertical-align: top;\n",
       "    }\n",
       "\n",
       "    .dataframe thead th {\n",
       "        text-align: right;\n",
       "    }\n",
       "</style>\n",
       "<table border=\"1\" class=\"dataframe\">\n",
       "  <thead>\n",
       "    <tr style=\"text-align: right;\">\n",
       "      <th></th>\n",
       "      <th>mean radius</th>\n",
       "      <th>mean texture</th>\n",
       "      <th>mean perimeter</th>\n",
       "      <th>mean area</th>\n",
       "      <th>mean smoothness</th>\n",
       "      <th>mean compactness</th>\n",
       "      <th>mean concavity</th>\n",
       "      <th>mean concave points</th>\n",
       "      <th>mean symmetry</th>\n",
       "      <th>mean fractal dimension</th>\n",
       "      <th>...</th>\n",
       "      <th>worst texture</th>\n",
       "      <th>worst perimeter</th>\n",
       "      <th>worst area</th>\n",
       "      <th>worst smoothness</th>\n",
       "      <th>worst compactness</th>\n",
       "      <th>worst concavity</th>\n",
       "      <th>worst concave points</th>\n",
       "      <th>worst symmetry</th>\n",
       "      <th>worst fractal dimension</th>\n",
       "      <th>label</th>\n",
       "    </tr>\n",
       "  </thead>\n",
       "  <tbody>\n",
       "    <tr>\n",
       "      <th>0</th>\n",
       "      <td>17.99</td>\n",
       "      <td>10.38</td>\n",
       "      <td>122.80</td>\n",
       "      <td>1001.0</td>\n",
       "      <td>0.11840</td>\n",
       "      <td>0.27760</td>\n",
       "      <td>0.3001</td>\n",
       "      <td>0.14710</td>\n",
       "      <td>0.2419</td>\n",
       "      <td>0.07871</td>\n",
       "      <td>...</td>\n",
       "      <td>17.33</td>\n",
       "      <td>184.60</td>\n",
       "      <td>2019.0</td>\n",
       "      <td>0.1622</td>\n",
       "      <td>0.6656</td>\n",
       "      <td>0.7119</td>\n",
       "      <td>0.2654</td>\n",
       "      <td>0.4601</td>\n",
       "      <td>0.11890</td>\n",
       "      <td>0.0</td>\n",
       "    </tr>\n",
       "    <tr>\n",
       "      <th>1</th>\n",
       "      <td>20.57</td>\n",
       "      <td>17.77</td>\n",
       "      <td>132.90</td>\n",
       "      <td>1326.0</td>\n",
       "      <td>0.08474</td>\n",
       "      <td>0.07864</td>\n",
       "      <td>0.0869</td>\n",
       "      <td>0.07017</td>\n",
       "      <td>0.1812</td>\n",
       "      <td>0.05667</td>\n",
       "      <td>...</td>\n",
       "      <td>23.41</td>\n",
       "      <td>158.80</td>\n",
       "      <td>1956.0</td>\n",
       "      <td>0.1238</td>\n",
       "      <td>0.1866</td>\n",
       "      <td>0.2416</td>\n",
       "      <td>0.1860</td>\n",
       "      <td>0.2750</td>\n",
       "      <td>0.08902</td>\n",
       "      <td>0.0</td>\n",
       "    </tr>\n",
       "    <tr>\n",
       "      <th>2</th>\n",
       "      <td>19.69</td>\n",
       "      <td>21.25</td>\n",
       "      <td>130.00</td>\n",
       "      <td>1203.0</td>\n",
       "      <td>0.10960</td>\n",
       "      <td>0.15990</td>\n",
       "      <td>0.1974</td>\n",
       "      <td>0.12790</td>\n",
       "      <td>0.2069</td>\n",
       "      <td>0.05999</td>\n",
       "      <td>...</td>\n",
       "      <td>25.53</td>\n",
       "      <td>152.50</td>\n",
       "      <td>1709.0</td>\n",
       "      <td>0.1444</td>\n",
       "      <td>0.4245</td>\n",
       "      <td>0.4504</td>\n",
       "      <td>0.2430</td>\n",
       "      <td>0.3613</td>\n",
       "      <td>0.08758</td>\n",
       "      <td>0.0</td>\n",
       "    </tr>\n",
       "    <tr>\n",
       "      <th>3</th>\n",
       "      <td>11.42</td>\n",
       "      <td>20.38</td>\n",
       "      <td>77.58</td>\n",
       "      <td>386.1</td>\n",
       "      <td>0.14250</td>\n",
       "      <td>0.28390</td>\n",
       "      <td>0.2414</td>\n",
       "      <td>0.10520</td>\n",
       "      <td>0.2597</td>\n",
       "      <td>0.09744</td>\n",
       "      <td>...</td>\n",
       "      <td>26.50</td>\n",
       "      <td>98.87</td>\n",
       "      <td>567.7</td>\n",
       "      <td>0.2098</td>\n",
       "      <td>0.8663</td>\n",
       "      <td>0.6869</td>\n",
       "      <td>0.2575</td>\n",
       "      <td>0.6638</td>\n",
       "      <td>0.17300</td>\n",
       "      <td>0.0</td>\n",
       "    </tr>\n",
       "    <tr>\n",
       "      <th>4</th>\n",
       "      <td>20.29</td>\n",
       "      <td>14.34</td>\n",
       "      <td>135.10</td>\n",
       "      <td>1297.0</td>\n",
       "      <td>0.10030</td>\n",
       "      <td>0.13280</td>\n",
       "      <td>0.1980</td>\n",
       "      <td>0.10430</td>\n",
       "      <td>0.1809</td>\n",
       "      <td>0.05883</td>\n",
       "      <td>...</td>\n",
       "      <td>16.67</td>\n",
       "      <td>152.20</td>\n",
       "      <td>1575.0</td>\n",
       "      <td>0.1374</td>\n",
       "      <td>0.2050</td>\n",
       "      <td>0.4000</td>\n",
       "      <td>0.1625</td>\n",
       "      <td>0.2364</td>\n",
       "      <td>0.07678</td>\n",
       "      <td>0.0</td>\n",
       "    </tr>\n",
       "  </tbody>\n",
       "</table>\n",
       "<p>5 rows × 31 columns</p>\n",
       "</div>"
      ],
      "text/plain": [
       "   mean radius  mean texture  mean perimeter  mean area  mean smoothness  \\\n",
       "0        17.99         10.38          122.80     1001.0          0.11840   \n",
       "1        20.57         17.77          132.90     1326.0          0.08474   \n",
       "2        19.69         21.25          130.00     1203.0          0.10960   \n",
       "3        11.42         20.38           77.58      386.1          0.14250   \n",
       "4        20.29         14.34          135.10     1297.0          0.10030   \n",
       "\n",
       "   mean compactness  mean concavity  mean concave points  mean symmetry  \\\n",
       "0           0.27760          0.3001              0.14710         0.2419   \n",
       "1           0.07864          0.0869              0.07017         0.1812   \n",
       "2           0.15990          0.1974              0.12790         0.2069   \n",
       "3           0.28390          0.2414              0.10520         0.2597   \n",
       "4           0.13280          0.1980              0.10430         0.1809   \n",
       "\n",
       "   mean fractal dimension  ...  worst texture  worst perimeter  worst area  \\\n",
       "0                 0.07871  ...          17.33           184.60      2019.0   \n",
       "1                 0.05667  ...          23.41           158.80      1956.0   \n",
       "2                 0.05999  ...          25.53           152.50      1709.0   \n",
       "3                 0.09744  ...          26.50            98.87       567.7   \n",
       "4                 0.05883  ...          16.67           152.20      1575.0   \n",
       "\n",
       "   worst smoothness  worst compactness  worst concavity  worst concave points  \\\n",
       "0            0.1622             0.6656           0.7119                0.2654   \n",
       "1            0.1238             0.1866           0.2416                0.1860   \n",
       "2            0.1444             0.4245           0.4504                0.2430   \n",
       "3            0.2098             0.8663           0.6869                0.2575   \n",
       "4            0.1374             0.2050           0.4000                0.1625   \n",
       "\n",
       "   worst symmetry  worst fractal dimension  label  \n",
       "0          0.4601                  0.11890    0.0  \n",
       "1          0.2750                  0.08902    0.0  \n",
       "2          0.3613                  0.08758    0.0  \n",
       "3          0.6638                  0.17300    0.0  \n",
       "4          0.2364                  0.07678    0.0  \n",
       "\n",
       "[5 rows x 31 columns]"
      ]
     },
     "execution_count": 42,
     "metadata": {},
     "output_type": "execute_result"
    }
   ],
   "source": [
    "# Now, attach the column names 'features_labels' to the data (breast_dataset)\n",
    "breast_dataset.columns = features_labels\n",
    "breast_dataset.head() # Now we have actual column names instead of just numbers!"
   ]
  },
  {
   "cell_type": "code",
   "execution_count": 43,
   "id": "d736343b",
   "metadata": {},
   "outputs": [
    {
     "data": {
      "text/html": [
       "<div>\n",
       "<style scoped>\n",
       "    .dataframe tbody tr th:only-of-type {\n",
       "        vertical-align: middle;\n",
       "    }\n",
       "\n",
       "    .dataframe tbody tr th {\n",
       "        vertical-align: top;\n",
       "    }\n",
       "\n",
       "    .dataframe thead th {\n",
       "        text-align: right;\n",
       "    }\n",
       "</style>\n",
       "<table border=\"1\" class=\"dataframe\">\n",
       "  <thead>\n",
       "    <tr style=\"text-align: right;\">\n",
       "      <th></th>\n",
       "      <th>mean radius</th>\n",
       "      <th>mean texture</th>\n",
       "      <th>mean perimeter</th>\n",
       "      <th>mean area</th>\n",
       "      <th>mean smoothness</th>\n",
       "      <th>mean compactness</th>\n",
       "      <th>mean concavity</th>\n",
       "      <th>mean concave points</th>\n",
       "      <th>mean symmetry</th>\n",
       "      <th>mean fractal dimension</th>\n",
       "      <th>...</th>\n",
       "      <th>worst texture</th>\n",
       "      <th>worst perimeter</th>\n",
       "      <th>worst area</th>\n",
       "      <th>worst smoothness</th>\n",
       "      <th>worst compactness</th>\n",
       "      <th>worst concavity</th>\n",
       "      <th>worst concave points</th>\n",
       "      <th>worst symmetry</th>\n",
       "      <th>worst fractal dimension</th>\n",
       "      <th>label</th>\n",
       "    </tr>\n",
       "  </thead>\n",
       "  <tbody>\n",
       "    <tr>\n",
       "      <th>564</th>\n",
       "      <td>21.56</td>\n",
       "      <td>22.39</td>\n",
       "      <td>142.00</td>\n",
       "      <td>1479.0</td>\n",
       "      <td>0.11100</td>\n",
       "      <td>0.11590</td>\n",
       "      <td>0.24390</td>\n",
       "      <td>0.13890</td>\n",
       "      <td>0.1726</td>\n",
       "      <td>0.05623</td>\n",
       "      <td>...</td>\n",
       "      <td>26.40</td>\n",
       "      <td>166.10</td>\n",
       "      <td>2027.0</td>\n",
       "      <td>0.14100</td>\n",
       "      <td>0.21130</td>\n",
       "      <td>0.4107</td>\n",
       "      <td>0.2216</td>\n",
       "      <td>0.2060</td>\n",
       "      <td>0.07115</td>\n",
       "      <td>Benign</td>\n",
       "    </tr>\n",
       "    <tr>\n",
       "      <th>565</th>\n",
       "      <td>20.13</td>\n",
       "      <td>28.25</td>\n",
       "      <td>131.20</td>\n",
       "      <td>1261.0</td>\n",
       "      <td>0.09780</td>\n",
       "      <td>0.10340</td>\n",
       "      <td>0.14400</td>\n",
       "      <td>0.09791</td>\n",
       "      <td>0.1752</td>\n",
       "      <td>0.05533</td>\n",
       "      <td>...</td>\n",
       "      <td>38.25</td>\n",
       "      <td>155.00</td>\n",
       "      <td>1731.0</td>\n",
       "      <td>0.11660</td>\n",
       "      <td>0.19220</td>\n",
       "      <td>0.3215</td>\n",
       "      <td>0.1628</td>\n",
       "      <td>0.2572</td>\n",
       "      <td>0.06637</td>\n",
       "      <td>Benign</td>\n",
       "    </tr>\n",
       "    <tr>\n",
       "      <th>566</th>\n",
       "      <td>16.60</td>\n",
       "      <td>28.08</td>\n",
       "      <td>108.30</td>\n",
       "      <td>858.1</td>\n",
       "      <td>0.08455</td>\n",
       "      <td>0.10230</td>\n",
       "      <td>0.09251</td>\n",
       "      <td>0.05302</td>\n",
       "      <td>0.1590</td>\n",
       "      <td>0.05648</td>\n",
       "      <td>...</td>\n",
       "      <td>34.12</td>\n",
       "      <td>126.70</td>\n",
       "      <td>1124.0</td>\n",
       "      <td>0.11390</td>\n",
       "      <td>0.30940</td>\n",
       "      <td>0.3403</td>\n",
       "      <td>0.1418</td>\n",
       "      <td>0.2218</td>\n",
       "      <td>0.07820</td>\n",
       "      <td>Benign</td>\n",
       "    </tr>\n",
       "    <tr>\n",
       "      <th>567</th>\n",
       "      <td>20.60</td>\n",
       "      <td>29.33</td>\n",
       "      <td>140.10</td>\n",
       "      <td>1265.0</td>\n",
       "      <td>0.11780</td>\n",
       "      <td>0.27700</td>\n",
       "      <td>0.35140</td>\n",
       "      <td>0.15200</td>\n",
       "      <td>0.2397</td>\n",
       "      <td>0.07016</td>\n",
       "      <td>...</td>\n",
       "      <td>39.42</td>\n",
       "      <td>184.60</td>\n",
       "      <td>1821.0</td>\n",
       "      <td>0.16500</td>\n",
       "      <td>0.86810</td>\n",
       "      <td>0.9387</td>\n",
       "      <td>0.2650</td>\n",
       "      <td>0.4087</td>\n",
       "      <td>0.12400</td>\n",
       "      <td>Benign</td>\n",
       "    </tr>\n",
       "    <tr>\n",
       "      <th>568</th>\n",
       "      <td>7.76</td>\n",
       "      <td>24.54</td>\n",
       "      <td>47.92</td>\n",
       "      <td>181.0</td>\n",
       "      <td>0.05263</td>\n",
       "      <td>0.04362</td>\n",
       "      <td>0.00000</td>\n",
       "      <td>0.00000</td>\n",
       "      <td>0.1587</td>\n",
       "      <td>0.05884</td>\n",
       "      <td>...</td>\n",
       "      <td>30.37</td>\n",
       "      <td>59.16</td>\n",
       "      <td>268.6</td>\n",
       "      <td>0.08996</td>\n",
       "      <td>0.06444</td>\n",
       "      <td>0.0000</td>\n",
       "      <td>0.0000</td>\n",
       "      <td>0.2871</td>\n",
       "      <td>0.07039</td>\n",
       "      <td>Malignant</td>\n",
       "    </tr>\n",
       "  </tbody>\n",
       "</table>\n",
       "<p>5 rows × 31 columns</p>\n",
       "</div>"
      ],
      "text/plain": [
       "     mean radius  mean texture  mean perimeter  mean area  mean smoothness  \\\n",
       "564        21.56         22.39          142.00     1479.0          0.11100   \n",
       "565        20.13         28.25          131.20     1261.0          0.09780   \n",
       "566        16.60         28.08          108.30      858.1          0.08455   \n",
       "567        20.60         29.33          140.10     1265.0          0.11780   \n",
       "568         7.76         24.54           47.92      181.0          0.05263   \n",
       "\n",
       "     mean compactness  mean concavity  mean concave points  mean symmetry  \\\n",
       "564           0.11590         0.24390              0.13890         0.1726   \n",
       "565           0.10340         0.14400              0.09791         0.1752   \n",
       "566           0.10230         0.09251              0.05302         0.1590   \n",
       "567           0.27700         0.35140              0.15200         0.2397   \n",
       "568           0.04362         0.00000              0.00000         0.1587   \n",
       "\n",
       "     mean fractal dimension  ...  worst texture  worst perimeter  worst area  \\\n",
       "564                 0.05623  ...          26.40           166.10      2027.0   \n",
       "565                 0.05533  ...          38.25           155.00      1731.0   \n",
       "566                 0.05648  ...          34.12           126.70      1124.0   \n",
       "567                 0.07016  ...          39.42           184.60      1821.0   \n",
       "568                 0.05884  ...          30.37            59.16       268.6   \n",
       "\n",
       "     worst smoothness  worst compactness  worst concavity  \\\n",
       "564           0.14100            0.21130           0.4107   \n",
       "565           0.11660            0.19220           0.3215   \n",
       "566           0.11390            0.30940           0.3403   \n",
       "567           0.16500            0.86810           0.9387   \n",
       "568           0.08996            0.06444           0.0000   \n",
       "\n",
       "     worst concave points  worst symmetry  worst fractal dimension      label  \n",
       "564                0.2216          0.2060                  0.07115     Benign  \n",
       "565                0.1628          0.2572                  0.06637     Benign  \n",
       "566                0.1418          0.2218                  0.07820     Benign  \n",
       "567                0.2650          0.4087                  0.12400     Benign  \n",
       "568                0.0000          0.2871                  0.07039  Malignant  \n",
       "\n",
       "[5 rows x 31 columns]"
      ]
     },
     "execution_count": 43,
     "metadata": {},
     "output_type": "execute_result"
    }
   ],
   "source": [
    "# Modify the data frame so that 0,1 (label column in data set, last column) is changed to benign, malignant, respectively \n",
    "breast_dataset['label'].replace(0, 'Benign', inplace=True)\n",
    "breast_dataset['label'].replace(1, 'Malignant', inplace=True)\n",
    "\n",
    "# Print the last few rows of the data set to examine\n",
    "breast_dataset.tail() # Scroll to the last column to see it worked!"
   ]
  },
  {
   "cell_type": "code",
   "execution_count": 44,
   "id": "88863239",
   "metadata": {},
   "outputs": [],
   "source": [
    "# We must normalize our data before completing the PCA\n",
    "# This is because if there are large differences between the ranges of initial variables, \n",
    "        # those variables with larger ranges will dominate over those with small ranges \n",
    "\n",
    "# Get values of all the features\n",
    "x = breast_dataset.loc[:,features].values\n",
    "\n",
    "# Do a fit_transform on the above to normalize to mean of zero and std of 1\n",
    "x = StandardScaler().fit_transform(x) # normalizing the features"
   ]
  },
  {
   "cell_type": "code",
   "execution_count": 45,
   "id": "de9c4587",
   "metadata": {},
   "outputs": [
    {
     "data": {
      "text/plain": [
       "(-6.826538293184326e-17, 1.0)"
      ]
     },
     "execution_count": 45,
     "metadata": {},
     "output_type": "execute_result"
    }
   ],
   "source": [
    "# Confirm mean of zero and std of 1\n",
    "np.mean(x),np.std(x)"
   ]
  },
  {
   "cell_type": "code",
   "execution_count": 46,
   "id": "c58deed0",
   "metadata": {},
   "outputs": [
    {
     "data": {
      "text/html": [
       "<div>\n",
       "<style scoped>\n",
       "    .dataframe tbody tr th:only-of-type {\n",
       "        vertical-align: middle;\n",
       "    }\n",
       "\n",
       "    .dataframe tbody tr th {\n",
       "        vertical-align: top;\n",
       "    }\n",
       "\n",
       "    .dataframe thead th {\n",
       "        text-align: right;\n",
       "    }\n",
       "</style>\n",
       "<table border=\"1\" class=\"dataframe\">\n",
       "  <thead>\n",
       "    <tr style=\"text-align: right;\">\n",
       "      <th></th>\n",
       "      <th>feature0</th>\n",
       "      <th>feature1</th>\n",
       "      <th>feature2</th>\n",
       "      <th>feature3</th>\n",
       "      <th>feature4</th>\n",
       "      <th>feature5</th>\n",
       "      <th>feature6</th>\n",
       "      <th>feature7</th>\n",
       "      <th>feature8</th>\n",
       "      <th>feature9</th>\n",
       "      <th>...</th>\n",
       "      <th>feature20</th>\n",
       "      <th>feature21</th>\n",
       "      <th>feature22</th>\n",
       "      <th>feature23</th>\n",
       "      <th>feature24</th>\n",
       "      <th>feature25</th>\n",
       "      <th>feature26</th>\n",
       "      <th>feature27</th>\n",
       "      <th>feature28</th>\n",
       "      <th>feature29</th>\n",
       "    </tr>\n",
       "  </thead>\n",
       "  <tbody>\n",
       "    <tr>\n",
       "      <th>564</th>\n",
       "      <td>2.110995</td>\n",
       "      <td>0.721473</td>\n",
       "      <td>2.060786</td>\n",
       "      <td>2.343856</td>\n",
       "      <td>1.041842</td>\n",
       "      <td>0.219060</td>\n",
       "      <td>1.947285</td>\n",
       "      <td>2.320965</td>\n",
       "      <td>-0.312589</td>\n",
       "      <td>-0.931027</td>\n",
       "      <td>...</td>\n",
       "      <td>1.901185</td>\n",
       "      <td>0.117700</td>\n",
       "      <td>1.752563</td>\n",
       "      <td>2.015301</td>\n",
       "      <td>0.378365</td>\n",
       "      <td>-0.273318</td>\n",
       "      <td>0.664512</td>\n",
       "      <td>1.629151</td>\n",
       "      <td>-1.360158</td>\n",
       "      <td>-0.709091</td>\n",
       "    </tr>\n",
       "    <tr>\n",
       "      <th>565</th>\n",
       "      <td>1.704854</td>\n",
       "      <td>2.085134</td>\n",
       "      <td>1.615931</td>\n",
       "      <td>1.723842</td>\n",
       "      <td>0.102458</td>\n",
       "      <td>-0.017833</td>\n",
       "      <td>0.693043</td>\n",
       "      <td>1.263669</td>\n",
       "      <td>-0.217664</td>\n",
       "      <td>-1.058611</td>\n",
       "      <td>...</td>\n",
       "      <td>1.536720</td>\n",
       "      <td>2.047399</td>\n",
       "      <td>1.421940</td>\n",
       "      <td>1.494959</td>\n",
       "      <td>-0.691230</td>\n",
       "      <td>-0.394820</td>\n",
       "      <td>0.236573</td>\n",
       "      <td>0.733827</td>\n",
       "      <td>-0.531855</td>\n",
       "      <td>-0.973978</td>\n",
       "    </tr>\n",
       "    <tr>\n",
       "      <th>566</th>\n",
       "      <td>0.702284</td>\n",
       "      <td>2.045574</td>\n",
       "      <td>0.672676</td>\n",
       "      <td>0.577953</td>\n",
       "      <td>-0.840484</td>\n",
       "      <td>-0.038680</td>\n",
       "      <td>0.046588</td>\n",
       "      <td>0.105777</td>\n",
       "      <td>-0.809117</td>\n",
       "      <td>-0.895587</td>\n",
       "      <td>...</td>\n",
       "      <td>0.561361</td>\n",
       "      <td>1.374854</td>\n",
       "      <td>0.579001</td>\n",
       "      <td>0.427906</td>\n",
       "      <td>-0.809587</td>\n",
       "      <td>0.350735</td>\n",
       "      <td>0.326767</td>\n",
       "      <td>0.414069</td>\n",
       "      <td>-1.104549</td>\n",
       "      <td>-0.318409</td>\n",
       "    </tr>\n",
       "    <tr>\n",
       "      <th>567</th>\n",
       "      <td>1.838341</td>\n",
       "      <td>2.336457</td>\n",
       "      <td>1.982524</td>\n",
       "      <td>1.735218</td>\n",
       "      <td>1.525767</td>\n",
       "      <td>3.272144</td>\n",
       "      <td>3.296944</td>\n",
       "      <td>2.658866</td>\n",
       "      <td>2.137194</td>\n",
       "      <td>1.043695</td>\n",
       "      <td>...</td>\n",
       "      <td>1.961239</td>\n",
       "      <td>2.237926</td>\n",
       "      <td>2.303601</td>\n",
       "      <td>1.653171</td>\n",
       "      <td>1.430427</td>\n",
       "      <td>3.904848</td>\n",
       "      <td>3.197605</td>\n",
       "      <td>2.289985</td>\n",
       "      <td>1.919083</td>\n",
       "      <td>2.219635</td>\n",
       "    </tr>\n",
       "    <tr>\n",
       "      <th>568</th>\n",
       "      <td>-1.808401</td>\n",
       "      <td>1.221792</td>\n",
       "      <td>-1.814389</td>\n",
       "      <td>-1.347789</td>\n",
       "      <td>-3.112085</td>\n",
       "      <td>-1.150752</td>\n",
       "      <td>-1.114873</td>\n",
       "      <td>-1.261820</td>\n",
       "      <td>-0.820070</td>\n",
       "      <td>-0.561032</td>\n",
       "      <td>...</td>\n",
       "      <td>-1.410893</td>\n",
       "      <td>0.764190</td>\n",
       "      <td>-1.432735</td>\n",
       "      <td>-1.075813</td>\n",
       "      <td>-1.859019</td>\n",
       "      <td>-1.207552</td>\n",
       "      <td>-1.305831</td>\n",
       "      <td>-1.745063</td>\n",
       "      <td>-0.048138</td>\n",
       "      <td>-0.751207</td>\n",
       "    </tr>\n",
       "  </tbody>\n",
       "</table>\n",
       "<p>5 rows × 30 columns</p>\n",
       "</div>"
      ],
      "text/plain": [
       "     feature0  feature1  feature2  feature3  feature4  feature5  feature6  \\\n",
       "564  2.110995  0.721473  2.060786  2.343856  1.041842  0.219060  1.947285   \n",
       "565  1.704854  2.085134  1.615931  1.723842  0.102458 -0.017833  0.693043   \n",
       "566  0.702284  2.045574  0.672676  0.577953 -0.840484 -0.038680  0.046588   \n",
       "567  1.838341  2.336457  1.982524  1.735218  1.525767  3.272144  3.296944   \n",
       "568 -1.808401  1.221792 -1.814389 -1.347789 -3.112085 -1.150752 -1.114873   \n",
       "\n",
       "     feature7  feature8  feature9  ...  feature20  feature21  feature22  \\\n",
       "564  2.320965 -0.312589 -0.931027  ...   1.901185   0.117700   1.752563   \n",
       "565  1.263669 -0.217664 -1.058611  ...   1.536720   2.047399   1.421940   \n",
       "566  0.105777 -0.809117 -0.895587  ...   0.561361   1.374854   0.579001   \n",
       "567  2.658866  2.137194  1.043695  ...   1.961239   2.237926   2.303601   \n",
       "568 -1.261820 -0.820070 -0.561032  ...  -1.410893   0.764190  -1.432735   \n",
       "\n",
       "     feature23  feature24  feature25  feature26  feature27  feature28  \\\n",
       "564   2.015301   0.378365  -0.273318   0.664512   1.629151  -1.360158   \n",
       "565   1.494959  -0.691230  -0.394820   0.236573   0.733827  -0.531855   \n",
       "566   0.427906  -0.809587   0.350735   0.326767   0.414069  -1.104549   \n",
       "567   1.653171   1.430427   3.904848   3.197605   2.289985   1.919083   \n",
       "568  -1.075813  -1.859019  -1.207552  -1.305831  -1.745063  -0.048138   \n",
       "\n",
       "     feature29  \n",
       "564  -0.709091  \n",
       "565  -0.973978  \n",
       "566  -0.318409  \n",
       "567   2.219635  \n",
       "568  -0.751207  \n",
       "\n",
       "[5 rows x 30 columns]"
      ]
     },
     "execution_count": 46,
     "metadata": {},
     "output_type": "execute_result"
    }
   ],
   "source": [
    "# Convert nomalized features into tabular format (i.e. 'feature01', 'feature02', etc.)\n",
    "feat_cols = ['feature'+str(i) for i in range(x.shape[1])]\n",
    "\n",
    "# Convert the normalized features into a Pandas data frame\n",
    "normalized_breast = pd.DataFrame(x,columns=feat_cols)\n",
    "\n",
    "# Print tail to examine normalized results\n",
    "normalized_breast.tail()"
   ]
  },
  {
   "cell_type": "code",
   "execution_count": 47,
   "id": "b8157866",
   "metadata": {},
   "outputs": [],
   "source": [
    "# Next, we are going to transform the thirty-dimensional (30 columns) Breast Cancer data \n",
    "  # to 3-dimensional principal components.\n",
    "    \n",
    "# Create three primary components\n",
    "pca_breast = PCA(n_components=3) # components=3\n",
    "\n",
    "# x = the normalized features\n",
    "# fit the transformation to the normalized features from pca_breast\n",
    "principalComponents_breast = pca_breast.fit_transform(x)"
   ]
  },
  {
   "cell_type": "code",
   "execution_count": 48,
   "id": "62c8864c",
   "metadata": {},
   "outputs": [
    {
     "data": {
      "text/html": [
       "<div>\n",
       "<style scoped>\n",
       "    .dataframe tbody tr th:only-of-type {\n",
       "        vertical-align: middle;\n",
       "    }\n",
       "\n",
       "    .dataframe tbody tr th {\n",
       "        vertical-align: top;\n",
       "    }\n",
       "\n",
       "    .dataframe thead th {\n",
       "        text-align: right;\n",
       "    }\n",
       "</style>\n",
       "<table border=\"1\" class=\"dataframe\">\n",
       "  <thead>\n",
       "    <tr style=\"text-align: right;\">\n",
       "      <th></th>\n",
       "      <th>principal component 1</th>\n",
       "      <th>principal component 2</th>\n",
       "      <th>principal component 3</th>\n",
       "    </tr>\n",
       "  </thead>\n",
       "  <tbody>\n",
       "    <tr>\n",
       "      <th>564</th>\n",
       "      <td>6.439315</td>\n",
       "      <td>-3.576817</td>\n",
       "      <td>2.459489</td>\n",
       "    </tr>\n",
       "    <tr>\n",
       "      <th>565</th>\n",
       "      <td>3.793382</td>\n",
       "      <td>-3.584048</td>\n",
       "      <td>2.088476</td>\n",
       "    </tr>\n",
       "    <tr>\n",
       "      <th>566</th>\n",
       "      <td>1.256179</td>\n",
       "      <td>-1.902297</td>\n",
       "      <td>0.562729</td>\n",
       "    </tr>\n",
       "    <tr>\n",
       "      <th>567</th>\n",
       "      <td>10.374794</td>\n",
       "      <td>1.672009</td>\n",
       "      <td>-1.877031</td>\n",
       "    </tr>\n",
       "    <tr>\n",
       "      <th>568</th>\n",
       "      <td>-5.475243</td>\n",
       "      <td>-0.670635</td>\n",
       "      <td>1.490449</td>\n",
       "    </tr>\n",
       "  </tbody>\n",
       "</table>\n",
       "</div>"
      ],
      "text/plain": [
       "     principal component 1  principal component 2  principal component 3\n",
       "564               6.439315              -3.576817               2.459489\n",
       "565               3.793382              -3.584048               2.088476\n",
       "566               1.256179              -1.902297               0.562729\n",
       "567              10.374794               1.672009              -1.877031\n",
       "568              -5.475243              -0.670635               1.490449"
      ]
     },
     "execution_count": 48,
     "metadata": {},
     "output_type": "execute_result"
    }
   ],
   "source": [
    "# Now create data frame that will have the principal component values for all 569 samples\n",
    "principal_breast_df = pd.DataFrame(data = principalComponents_breast, \n",
    "                                   columns = ['principal component 1', 'principal component 2', 'principal component 3'])\n",
    "# Inspect the data frame\n",
    "principal_breast_df.tail()"
   ]
  },
  {
   "cell_type": "code",
   "execution_count": 49,
   "id": "9379dddd",
   "metadata": {},
   "outputs": [
    {
     "name": "stdout",
     "output_type": "stream",
     "text": [
      "Explained variation per principal component: [0.44272026 0.18971182 0.09393163]\n"
     ]
    }
   ],
   "source": [
    "# Now that we have the PCs, we can find the 'explained_variance_ratio'\n",
    "print('Explained variation per principal component: {}'.format(pca_breast.explained_variance_ratio_))\n",
    "\n",
    "# The output shows us that the 1st component holds 44.27% of the variance (information)\n",
    "# The 2nd component holds about 18.97% of the variance (information)\n",
    "# The 3rd component only holds about 9.39% of the variance\n",
    "# All together, the PCA holds about 72.63% of the information\n",
    "# Approximataely 27.37% was lost during the process of converting 30-D data to 3-D data"
   ]
  },
  {
   "cell_type": "code",
   "execution_count": 50,
   "id": "820a8b3b",
   "metadata": {},
   "outputs": [
    {
     "data": {
      "text/plain": [
       "<matplotlib.legend.Legend at 0x250e19fc8e0>"
      ]
     },
     "execution_count": 50,
     "metadata": {},
     "output_type": "execute_result"
    },
    {
     "data": {
      "image/png": "[encoded data removed]",
      "text/plain": [
       "<Figure size 648x648 with 1 Axes>"
      ]
     },
     "metadata": {
      "needs_background": "light"
     },
     "output_type": "display_data"
    }
   ],
   "source": [
    "# Now, plot the visualization of the 569 samples to see how our samples are distributed among the three classes\n",
    "\n",
    "# Setting up lables and titles\n",
    "fig = plt.figure(figsize=(9, 9))\n",
    "ax = fig.add_subplot(projection='3d') # Make visual 3D\n",
    "\n",
    "# label the 3 axes\n",
    "ax.set_xlabel('Principal Component 1',fontsize=14)\n",
    "ax.set_ylabel('Principal Component 2',fontsize=14)\n",
    "ax.set_zlabel('Principal Component 3',fontsize=14)\n",
    "\n",
    "# Add plot title\n",
    "plt.title(\"Principal Component Analysis of Breast Cancer Dataset\",fontsize=16)\n",
    "\n",
    "# Targets defined to be used in code below\n",
    "targets = ['Benign', 'Malignant']\n",
    "# Colors defined to be used in code below\n",
    "colors = ['blue', 'orange']\n",
    "\n",
    "# Plotting the data\n",
    "for target, color in zip(targets,colors):\n",
    "    # Take the 'label' column of breast_dataset and make everything 0 'benign' and 1 'malignant' (targets)\n",
    "    indicesToKeep = breast_dataset['label'] == target\n",
    "    \n",
    "    # Create a scatter plot\n",
    "    # locate 'indicesToKeep' from principal_breast_df and grab the 1st PC column\n",
    "    ax.scatter(principal_breast_df.loc[indicesToKeep, 'principal component 1'], \n",
    "                # Do the same, but for the second column; add 'color' from for loop\n",
    "                principal_breast_df.loc[indicesToKeep, 'principal component 2'],\n",
    "                principal_breast_df.loc[indicesToKeep, 'principal component 3'],c = color)\n",
    "\n",
    "# Edit the size of the legend\n",
    "plt.legend(targets,prop={'size': 12})"
   ]
  }
 ],
 "metadata": {
  "kernelspec": {
   "display_name": "Python 3 (ipykernel)",
   "language": "python",
   "name": "python3"
  },
  "language_info": {
   "codemirror_mode": {
    "name": "ipython",
    "version": 3
   },
   "file_extension": ".py",
   "mimetype": "text/x-python",
   "name": "python",
   "nbconvert_exporter": "python",
   "pygments_lexer": "ipython3",
   "version": "3.9.7"
  }
 },
 "nbformat": 4,
 "nbformat_minor": 5
}
