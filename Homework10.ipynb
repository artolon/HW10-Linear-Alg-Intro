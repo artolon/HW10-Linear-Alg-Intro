{
 "cells": [
  {
   "cell_type": "markdown",
   "id": "e0fe6713",
   "metadata": {},
   "source": [
    "# Homework 10: Basics of Linear Algebra"
   ]
  },
  {
   "cell_type": "markdown",
   "id": "1d302d7e",
   "metadata": {},
   "source": [
    "**Directions:** Please be sure your functions work for vectors with a size of three and matrices that are 3x3. Bonus points if you can further generalize them for larger vectors and matrices"
   ]
  },
  {
   "cell_type": "markdown",
   "id": "cfdaf616",
   "metadata": {},
   "source": [
    " ### 1.\tExplain the dot product and cross product in your own words in markdown. Use LaTeX to properly show the equations."
   ]
  },
  {
   "cell_type": "markdown",
   "id": "0988d602",
   "metadata": {},
   "source": [
    "#### Dot Product\n",
    "\n",
    "The Dot product equation: \n",
    "$$\\vec{v} \\cdot \\vec{w} = \\sum_{i=1}^{n} v_iw_i  $$\n",
    "\n",
    "The equation above, displays the dot product of two vectors. The notation shows that we multiply the respective elements from each vector together (v1*w1, v2*w2, etc.). We then take the sum of those products.\n",
    "\n",
    "This results in a scalar value. That value essentially tells us how similar directed two vectors are to one another. The dot product can also help us later calculate the angle between the two vectors. \n",
    "\n",
    "\n",
    "#### Cross Product\n",
    "\n",
    "The Cross product equation:\n",
    "$$\\vec{v}\\times\\vec{w} =|\\vec{v}|_2|\\vec{w}|_2\\sin(\\theta)\\ n$$\n",
    "\n",
    "The cross product of two vectors is defined in 3-dimensional space. The cross product calculation results in a vector. That vector is orthogonal to the two vectors used in the calculation. "
   ]
  },
  {
   "cell_type": "markdown",
   "id": "5484d154",
   "metadata": {},
   "source": [
    "### 2. Write a function angle_between(v1, v2) where v1 and v2 are two vectors that are passed in, and the angle between them is calculated."
   ]
  },
  {
   "cell_type": "markdown",
   "id": "71ca66d1",
   "metadata": {},
   "source": []
  },
  {
   "cell_type": "markdown",
   "id": "68d2f87b",
   "metadata": {},
   "source": [
    "### 3. Write a function called row_dot(A, r1, r2) which takes an input matrix called A, one row number identified by r1, and another row number identified by r2 and returns the dot product of the r1 and r2 rows (indexing starts at 0)."
   ]
  },
  {
   "cell_type": "code",
   "execution_count": null,
   "id": "6562aa93",
   "metadata": {},
   "outputs": [],
   "source": []
  },
  {
   "cell_type": "markdown",
   "id": "5896e08a",
   "metadata": {},
   "source": [
    "### 4. Write a function matrix_division(m1, m2) that takes in two matrices, m1 and m2, and returns the result. What is the trick with matrix division?"
   ]
  },
  {
   "cell_type": "code",
   "execution_count": null,
   "id": "a3a92896",
   "metadata": {},
   "outputs": [],
   "source": []
  },
  {
   "cell_type": "markdown",
   "id": "e767f107",
   "metadata": {},
   "source": [
    "### 5. Write a function is_orthogonal(v1,v2, tol), where v1 and v2 are column vectors of the same size and tol is a scalar value strictly larger than 0. The output should be 1 if the angle between v1 and v2 is within tol of π/2; that is, |π/2−θ|<tol|π/2−θ|<tol, and 0 otherwise. You may assume that v1 and v2 are column vectors of the same size, and that tol is a positive scalar."
   ]
  },
  {
   "cell_type": "code",
   "execution_count": null,
   "id": "c6adf9c9",
   "metadata": {},
   "outputs": [],
   "source": [
    "# Test cases for problem 4\n",
    "a = np.array([[1], [0.001]])\n",
    "b = np.array([[0.001], [1]])\n",
    "# output: 1\n",
    "is_orthogonal(a,b, 0.01)\n",
    "\n",
    "# output: 0\n",
    "is_orthogonal(a,b, 0.001)\n",
    "\n",
    "# output: 0\n",
    "a = np.array([[1], [0.001]])\n",
    "b = np.array([[1], [1]])\n",
    "is_orthogonal(a,b, 0.01)\n",
    "\n",
    "# output: 1\n",
    "a = np.array([[1], [1]])\n",
    "b = np.array([[-1], [1]])\n",
    "is_orthogonal(a,b, 1e-10)"
   ]
  },
  {
   "cell_type": "code",
   "execution_count": null,
   "id": "d4d15d89",
   "metadata": {},
   "outputs": [],
   "source": []
  },
  {
   "cell_type": "markdown",
   "id": "6983a50a",
   "metadata": {},
   "source": [
    "### 6. Create a class called vector_calculator. __init__ should take self, vector1, and vector2. It should have two methods inside of it that are from problems 1 and 4 above (angle_between and is_orthogonal). Make sure tol is defaulted but can be overwritten. Make sure you can call angle_between and is_orthogonal through the class and return the correct results as in problems 1 and 4."
   ]
  },
  {
   "cell_type": "code",
   "execution_count": null,
   "id": "2fd94599",
   "metadata": {},
   "outputs": [],
   "source": []
  },
  {
   "cell_type": "markdown",
   "id": "7a85eb89",
   "metadata": {},
   "source": [
    "### 7.\tShow a graphical representation of the breast cancer data outlined in this reading https://www.datacamp.com/community/tutorials/principal-component-analysis-in-python Be sure to describe what PCA is and incorporate the principal components in your plot. This is just exploratory, so there are many correct answers!"
   ]
  }
 ],
 "metadata": {
  "kernelspec": {
   "display_name": "Python 3 (ipykernel)",
   "language": "python",
   "name": "python3"
  },
  "language_info": {
   "codemirror_mode": {
    "name": "ipython",
    "version": 3
   },
   "file_extension": ".py",
   "mimetype": "text/x-python",
   "name": "python",
   "nbconvert_exporter": "python",
   "pygments_lexer": "ipython3",
   "version": "3.9.7"
  }
 },
 "nbformat": 4,
 "nbformat_minor": 5
}
